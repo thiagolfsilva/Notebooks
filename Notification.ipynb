{
 "cells": [
  {
   "cell_type": "code",
   "execution_count": 4,
   "id": "54a91f5f",
   "metadata": {},
   "outputs": [],
   "source": [
    "#import sys\n",
    "#!{sys.executable} -m pip install python-dotenv"
   ]
  },
  {
   "cell_type": "code",
   "execution_count": 1,
   "id": "5e11894a",
   "metadata": {},
   "outputs": [],
   "source": [
    "%load_ext dotenv\n",
    "%dotenv\n",
    "import os\n",
    "import requests\n",
    "\n",
    "token = os.getenv('TELEGRAM_TOKEN')\n",
    "chat_id = os.getenv('CHAT_ID')"
   ]
  },
  {
   "cell_type": "code",
   "execution_count": 3,
   "id": "74739855",
   "metadata": {},
   "outputs": [],
   "source": [
    "url = f\"https://api.telegram.org/bot{token}\"\n",
    "params = {\"chat_id\": chat_id, \"text\": \"Hello World\"}\n",
    "r = requests.get(url + \"/sendMessage\", params=params)"
   ]
  },
  {
   "cell_type": "code",
   "execution_count": null,
   "id": "bd807312",
   "metadata": {},
   "outputs": [],
   "source": [
    "#Get all the currencies that are in at least two futures thing\n",
    "#Get highest bid\n",
    "#Get lowest ask\n",
    "#If highest bid > lowest ask*1.005\n",
    "\n",
    "#Send telegram notification"
   ]
  },
  {
   "cell_type": "code",
   "execution_count": null,
   "id": "d325d91e",
   "metadata": {},
   "outputs": [],
   "source": [
    "#Similar but for Spot markets"
   ]
  },
  {
   "cell_type": "code",
   "execution_count": null,
   "id": "8c9853aa",
   "metadata": {},
   "outputs": [],
   "source": [
    "#Similar but combined"
   ]
  }
 ],
 "metadata": {
  "kernelspec": {
   "display_name": "Python 3 (ipykernel)",
   "language": "python",
   "name": "python3"
  },
  "language_info": {
   "codemirror_mode": {
    "name": "ipython",
    "version": 3
   },
   "file_extension": ".py",
   "mimetype": "text/x-python",
   "name": "python",
   "nbconvert_exporter": "python",
   "pygments_lexer": "ipython3",
   "version": "3.9.12"
  },
  "vscode": {
   "interpreter": {
    "hash": "83e92b1f3f21fdb4659571439a9645cff8fd2717e8d35e987f7eae31f7f6dd34"
   }
  }
 },
 "nbformat": 4,
 "nbformat_minor": 5
}
