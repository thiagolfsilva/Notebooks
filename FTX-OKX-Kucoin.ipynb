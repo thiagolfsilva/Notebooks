{
 "cells": [
  {
   "cell_type": "code",
   "execution_count": null,
   "id": "b2b5a40c",
   "metadata": {},
   "outputs": [],
   "source": [
    "#pip install requests"
   ]
  },
  {
   "cell_type": "code",
   "execution_count": 2,
   "id": "0b22d24b",
   "metadata": {},
   "outputs": [],
   "source": [
    "import requests\n",
    "import json\n",
    "import time\n",
    "from datetime import datetime, timedelta"
   ]
  },
  {
   "cell_type": "code",
   "execution_count": 3,
   "id": "0341f1c8",
   "metadata": {},
   "outputs": [],
   "source": [
    "def to_seconds(days=0, hours=0, minutes=0, seconds=0):\n",
    "    hours+=days*24\n",
    "    minutes+=hours*60\n",
    "    seconds+=minutes*60\n",
    "    return seconds"
   ]
  },
  {
   "cell_type": "code",
   "execution_count": 4,
   "id": "5d6db74c",
   "metadata": {},
   "outputs": [
    {
     "name": "stdout",
     "output_type": "stream",
     "text": [
      "1670602266.776025\n"
     ]
    }
   ],
   "source": [
    "now = datetime.now().timestamp()\n",
    "print(now)"
   ]
  },
  {
   "cell_type": "code",
   "execution_count": null,
   "id": "ea1b6fe1",
   "metadata": {},
   "outputs": [],
   "source": [
    "###################### FTX #################################"
   ]
  },
  {
   "cell_type": "code",
   "execution_count": null,
   "id": "f1f9badc",
   "metadata": {},
   "outputs": [],
   "source": [
    "def get_apr(start_time, end_time, future):\n",
    "    \n",
    "    #Queries funding rate data in the given period\n",
    "    params = {'start_time':start_time, 'end_time':end_time,'future':future}\n",
    "    response = requests.get(\"https://ftx.com/api/funding_rates\", params=params)\n",
    "    data=response.json()\n",
    "    \n",
    "    #Calculates the average hourly rate\n",
    "    total=0\n",
    "    for result in data['result']:\n",
    "        total+=result['rate']\n",
    "    data_length=len(data['result'])\n",
    "    average=total/data_length\n",
    "    \n",
    "    #Calculates the yearly rate (APR)\n",
    "    APR=average*24*365\n",
    "    return str(data['result'][0]['future']+': {:.2%}'.format(APR))"
   ]
  },
  {
   "cell_type": "code",
   "execution_count": null,
   "id": "7c00238b",
   "metadata": {},
   "outputs": [],
   "source": [
    "now=time.time()\n",
    "params = {'start_time':str(now-to_seconds(days=3)), 'end_time':str(now),'future':'GST-PERP'}\n",
    "response = requests.get(\"https://ftx.com/api/funding_rates\", params=params)\n",
    "data=response.json()\n",
    "print(json.dumps(data, indent=2))"
   ]
  },
  {
   "cell_type": "code",
   "execution_count": null,
   "id": "dd1b00d6",
   "metadata": {},
   "outputs": [],
   "source": [
    "total=0\n",
    "for result in data['result']:\n",
    "    total+=result['rate']\n",
    "\n",
    "data_length=len(data['result'])\n",
    "average=total/data_length\n",
    "APR=average*24*365\n",
    "print(data_length)\n",
    "print('{:.2%}'.format(APR))"
   ]
  },
  {
   "cell_type": "code",
   "execution_count": null,
   "id": "7a16c9e7",
   "metadata": {},
   "outputs": [],
   "source": [
    "#Get the average APR from all FTX perpetual futures on the last 3 days\n",
    "\n",
    "#Part(1/2) \n",
    "\n",
    "#Gets funding rates from all perpetual futures in the last hour\n",
    "#It's a way to get only the perpetual futures, as delivery futures don't have funding rates\n",
    "params = {'start_time':str(now-to_seconds(hours=1)), 'end_time':str(now)}\n",
    "response = requests.get(\"https://ftx.com/api/funding_rates\", params=params)\n",
    "data=response.json()\n",
    "print(json.dumps(data, indent=2))"
   ]
  },
  {
   "cell_type": "code",
   "execution_count": null,
   "id": "a07a7f71",
   "metadata": {},
   "outputs": [],
   "source": [
    "#Part(2/2)\n",
    "\n",
    "#Gets the name from all futures\n",
    "futures=[]\n",
    "for result in data['result']:\n",
    "    futures.append((result['future']))\n",
    "futures.sort()\n",
    "\n",
    "#Prints the implied APR from each future\n",
    "for future in futures:\n",
    "    print(get_apr(str(now-to_seconds(days=3)), str(now), future))"
   ]
  },
  {
   "cell_type": "code",
   "execution_count": null,
   "id": "3a9d0f50",
   "metadata": {},
   "outputs": [],
   "source": [
    "#Gets the APR from last 7 days\n",
    "for future in futures:\n",
    "    print(get_apr(str(now-to_seconds(days=7)), str(now), future))"
   ]
  },
  {
   "cell_type": "code",
   "execution_count": null,
   "id": "ab77c217",
   "metadata": {},
   "outputs": [],
   "source": [
    "#Gets the APR from last 30 days\n",
    "\n",
    "for future in futures:\n",
    "    print(get_apr(str(now-to_seconds(days=30)), str(now), future))"
   ]
  },
  {
   "cell_type": "markdown",
   "id": "a37259e2",
   "metadata": {},
   "source": [
    "Next Steps:\n",
    "\n",
    "* Create a more user friendly way to define the timeframe\n",
    "* Use FTX pagination and get data from timeframes greater than supported by default\n",
    "* Order by APR\n",
    "* Study the use of asynchronous calls to improve the speed of the algorithm\n",
    "* Store the data so that when doing different timeframes, the overlapping time doesn't need to be queried repeatedly"
   ]
  },
  {
   "cell_type": "code",
   "execution_count": null,
   "id": "fa64b882",
   "metadata": {},
   "outputs": [],
   "source": [
    "######################## OKX ###############################"
   ]
  },
  {
   "cell_type": "code",
   "execution_count": null,
   "id": "671bf5a7",
   "metadata": {},
   "outputs": [],
   "source": [
    "def get_okx_apr(before, after, coin):\n",
    "    \n",
    "    params = {'ccy': coin, 'before': before, 'after': after}\n",
    "    response = requests.get(\"https://okx.com/api/v5/asset/lending-rate-history\", params=params)\n",
    "    data=response.json()\n",
    "    \n",
    "    #Calculates the average yearly rate\n",
    "    total=0\n",
    "    for datapoint in data['data']:\n",
    "        total+=float(datapoint['rate'])\n",
    "    data_length=len(data['data'])\n",
    "    \n",
    "    APR=total/data_length\n",
    "    return str(coin+': {:.2%}'.format(APR))"
   ]
  },
  {
   "cell_type": "code",
   "execution_count": null,
   "id": "05df8d96",
   "metadata": {},
   "outputs": [],
   "source": [
    "#Test for BTC\n",
    "\n",
    "before=str(int(now)-to_seconds(days=4))+'000'\n",
    "after=str(int(now)-to_seconds(days=0))+'000'\n",
    "apr = get_okx_apr(before, after, 'BTC')\n",
    "print(apr)\n"
   ]
  },
  {
   "cell_type": "code",
   "execution_count": null,
   "id": "531fc605",
   "metadata": {},
   "outputs": [],
   "source": [
    "#Gets all the currencies available in OKX for stop trading\n",
    "\n",
    "params = {'instType': 'SPOT'}\n",
    "response = requests.get(\"https://okx.com/api/v5/market/tickers\", params=params)\n",
    "print(response)\n",
    "data=response.json()\n",
    "print(len(data['data']))\n",
    "currencies=[]\n",
    "for datapoint in data['data']:\n",
    "    base=datapoint['instId'].split('-')[0]\n",
    "    if base not in currencies:\n",
    "        currencies.append(base)\n",
    "currencies.sort()\n",
    "print(currencies)"
   ]
  },
  {
   "cell_type": "code",
   "execution_count": null,
   "id": "733c6fa6",
   "metadata": {},
   "outputs": [],
   "source": [
    "#Gets the interest rates on all coins available to borrow, based on an average of the last 4 days\n",
    "\n",
    "before=str(int(now)-to_seconds(days=4))+'000'\n",
    "after=str(int(now)-to_seconds(days=0))+'000'\n",
    "for currency in currencies:\n",
    "    try:\n",
    "        apr = get_okx_apr(before, after, currency)\n",
    "        print(apr)\n",
    "    except:\n",
    "        pass"
   ]
  },
  {
   "cell_type": "code",
   "execution_count": null,
   "id": "776d7735",
   "metadata": {},
   "outputs": [],
   "source": [
    "#response = requests.get(\"https://okx.com/api/v5/asset/lending-rate-history\")\n",
    "#data=response.json()\n",
    "#print(json.dumps(data, indent=2))\n",
    "#print(len(data['data']))"
   ]
  },
  {
   "cell_type": "code",
   "execution_count": null,
   "id": "4012acbf",
   "metadata": {},
   "outputs": [],
   "source": [
    "####################### KUCOIN MARGIN ################################"
   ]
  },
  {
   "cell_type": "code",
   "execution_count": 5,
   "id": "67e66d85",
   "metadata": {},
   "outputs": [],
   "source": [
    "BASE_KUCOIN='https://api.kucoin.com'\n",
    "\n",
    "#response = requests.get(BASE_KUCOIN+'/api/v1/margin/market?currency=BTC')\n",
    "#data=response.json()\n",
    "#print(json.dumps(data, indent=2))"
   ]
  },
  {
   "cell_type": "code",
   "execution_count": 8,
   "id": "5611152b",
   "metadata": {},
   "outputs": [
    {
     "name": "stdout",
     "output_type": "stream",
     "text": [
      "['1INCH', 'AAVE', 'ADA', 'AIOZ', 'ALGO', 'ALICE', 'ANC', 'ANKR', 'ANT', 'APE', 'API3', 'APT', 'AR', 'ARPA', 'ATOM', 'AUDIO', 'AVAX', 'AXS', 'BAT', 'BCH', 'BCHSV', 'BNB', 'BTC', 'BTT', 'C98', 'CAKE', 'CELO', 'CHR', 'CHZ', 'CKB', 'CLV', 'COMP', 'CRO', 'CRV', 'CTSI', 'DAO', 'DAR', 'DASH', 'DGB', 'DODO', 'DOGE', 'DOT', 'DYDX', 'EGLD', 'ELON', 'ENJ', 'ENS', 'EOS', 'ERN', 'ETC', 'ETH', 'ETHW', 'FIL', 'FITFI', 'FLOW', 'FLUX', 'FRONT', 'FTM', 'FXS', 'GAL', 'GALAX', 'GLMR', 'GMT', 'GRT', 'HBAR', 'ICP', 'ILV', 'IMX', 'INJ', 'IOST', 'IOTA', 'IOTX', 'JASMY', 'JST', 'KAVA', 'KCS', 'KDA', 'KSM', 'LINA', 'LINK', 'LPT', 'LRC', 'LTC', 'LTO', 'MANA', 'MASK', 'MATIC', 'MKR', 'MOVR', 'MXC', 'NEAR', 'NEO', 'NFT', 'NKN', 'OCEAN', 'OGN', 'OMG', 'ONE', 'OP', 'ORN', 'PEOPLE', 'POLS', 'POND', 'PYR', 'QI', 'QNT', 'REN', 'REQ', 'RLC', 'RNDR', 'ROSE', 'RSR', 'RUNE', 'SAND', 'SHIB', 'SKL', 'SLP', 'SNX', 'SOL', 'SOS', 'STORJ', 'STX', 'SUN', 'SUPER', 'SUSHI', 'SXP', 'THETA', 'TLM', 'TRX', 'UMA', 'UNI', 'USDC', 'USDD', 'USDT', 'VELO', 'VET', 'VRA', 'WAVES', 'WAX', 'WIN', 'WOO', 'XEM', 'XLM', 'XMR', 'XPR', 'XRP', 'XTZ', 'YFI', 'YGG', 'ZEC', 'ZIL']\n"
     ]
    }
   ],
   "source": [
    "#Gets all the currencies on Kucoin that have margin trading availabe\n",
    "#response = requests.get(BASE_KUCOIN+'/api/v1/currencies')\n",
    "response = requests.get('https://api.kucoin.com/api/v1/currencies')\n",
    "data=response.json()\n",
    "currencies = []\n",
    "for datapoint in data['data']:\n",
    "    if datapoint['isMarginEnabled']:\n",
    "        currencies.append(datapoint['currency'])\n",
    "\n",
    "currencies.sort()\n",
    "print(currencies)        "
   ]
  },
  {
   "cell_type": "code",
   "execution_count": 7,
   "id": "eb46fce7",
   "metadata": {},
   "outputs": [
    {
     "name": "stdout",
     "output_type": "stream",
     "text": [
      "1INCH: : 6.21%\n",
      "AAVE: : 1.46%\n",
      "ADA: : 5.11%\n",
      "AIOZ: : 12.41%\n",
      "ALGO: : 15.33%\n",
      "ALICE: : 2.19%\n",
      "ANC: : 32.85%\n",
      "ANKR: : 3.65%\n",
      "ANT: : 4.01%\n",
      "APE: : 7.30%\n",
      "API3: : 6.94%\n",
      "APT: : 1.83%\n",
      "AR: : 0.73%\n",
      "ARPA: : 8.03%\n",
      "ATOM: : 7.30%\n",
      "AUDIO: : 14.60%\n",
      "AVAX: : 2.19%\n",
      "AXS: : 18.98%\n",
      "BAT: : 0.37%\n",
      "BCH: : 2.55%\n",
      "BCHSV: : 2.19%\n",
      "BNB: : 1.09%\n",
      "BTC: : 1.09%\n",
      "BTT: : 8.03%\n",
      "C98: : 16.06%\n",
      "CAKE: : 9.86%\n",
      "CELO: : 7.67%\n",
      "CHR: : 5.11%\n",
      "CHZ: : 0.73%\n",
      "CKB: : 2.55%\n",
      "CLV: : 0.73%\n",
      "COMP: : 3.65%\n",
      "CRO: : 1.09%\n",
      "CRV: : 17.52%\n",
      "CTSI: Not available\n",
      "DAO: : 11.68%\n",
      "DAR: : 27.38%\n",
      "DASH: : 3.65%\n",
      "DGB: : 0.73%\n",
      "DODO: : 1.09%\n",
      "DOGE: : 5.47%\n",
      "DOT: : 5.47%\n",
      "DYDX: : 2.19%\n",
      "EGLD: : 12.04%\n",
      "ELON: : 0.73%\n",
      "ENJ: : 0.37%\n",
      "ENS: : 5.47%\n",
      "EOS: : 6.21%\n",
      "ERN: : 8.03%\n",
      "ETC: : 0.73%\n",
      "ETH: : 3.65%\n",
      "ETHW: Not available\n",
      "FIL: : 5.11%\n",
      "FITFI: Not available\n",
      "FLOW: : 10.95%\n",
      "FLUX: : 6.21%\n",
      "FRONT: : 2.92%\n",
      "FTM: : 8.03%\n",
      "FXS: : 11.68%\n",
      "GAL: : 9.49%\n",
      "GALAX: : 4.38%\n",
      "GLMR: : 1.46%\n",
      "GMT: : 0.73%\n",
      "GRT: : 13.14%\n",
      "HBAR: : 4.75%\n",
      "ICP: : 7.30%\n",
      "ILV: : 10.95%\n",
      "IMX: : 0.73%\n",
      "INJ: : 17.88%\n",
      "IOST: : 8.03%\n",
      "IOTA: : 0.73%\n",
      "IOTX: : 9.12%\n",
      "JASMY: : 6.57%\n",
      "JST: : 21.17%\n",
      "KAVA: : 20.80%\n",
      "KCS: Not available\n",
      "KDA: : 2.19%\n",
      "KSM: : 19.34%\n",
      "LINA: : 8.03%\n",
      "LINK: : 3.29%\n",
      "LPT: : 0.73%\n",
      "LRC: : 5.47%\n",
      "LTC: : 8.03%\n",
      "LTO: : 9.49%\n",
      "MANA: : 0.37%\n",
      "MASK: : 8.03%\n",
      "MATIC: : 7.30%\n",
      "MKR: : 4.38%\n",
      "MOVR: : 8.39%\n",
      "MXC: : 4.75%\n",
      "NEAR: : 1.46%\n",
      "NEO: : 2.19%\n",
      "NFT: : 0.37%\n",
      "NKN: : 7.67%\n",
      "OCEAN: Not available\n",
      "OGN: : 0.73%\n",
      "OMG: : 3.29%\n",
      "ONE: : 4.38%\n",
      "OP: : 8.03%\n",
      "ORN: : 1.09%\n",
      "PEOPLE: : 8.03%\n",
      "POLS: : 8.76%\n",
      "POND: : 8.76%\n",
      "PYR: : 13.14%\n",
      "QI: : 8.03%\n",
      "QNT: : 5.11%\n",
      "REN: : 0.37%\n",
      "REQ: : 4.75%\n",
      "RLC: : 11.68%\n",
      "RNDR: : 7.30%\n",
      "ROSE: : 1.46%\n",
      "RSR: : 6.21%\n",
      "RUNE: : 6.94%\n",
      "SAND: : 5.47%\n",
      "SHIB: : 0.37%\n",
      "SKL: : 7.67%\n",
      "SLP: : 6.57%\n",
      "SNX: : 12.41%\n",
      "SOL: : 15.70%\n",
      "SOS: : 32.12%\n",
      "STORJ: : 7.30%\n",
      "STX: : 0.73%\n",
      "SUN: : 7.30%\n",
      "SUPER: : 8.03%\n",
      "SUSHI: : 6.94%\n",
      "SXP: : 2.55%\n",
      "THETA: : 12.04%\n",
      "TLM: : 10.22%\n",
      "TRX: : 5.47%\n",
      "UMA: : 5.47%\n",
      "UNI: : 1.46%\n",
      "USDC: : 2.55%\n",
      "USDD: : 0.73%\n",
      "USDT: : 4.38%\n",
      "VELO: : 14.60%\n",
      "VET: : 0.37%\n",
      "VRA: : 1.83%\n",
      "WAVES: : 4.75%\n",
      "WAX: : 1.09%\n",
      "WIN: : 0.73%\n",
      "WOO: : 8.03%\n",
      "XEM: : 0.73%\n",
      "XLM: : 0.37%\n",
      "XMR: : 5.47%\n",
      "XPR: : 1.09%\n",
      "XRP: : 3.65%\n",
      "XTZ: : 0.37%\n",
      "YFI: : 10.95%\n",
      "YGG: : 5.47%\n",
      "ZEC: : 3.29%\n",
      "ZIL: : 2.92%\n"
     ]
    }
   ],
   "source": [
    "#For each currency\n",
    "    #Get the price of the currency\n",
    "    #Get the lending offers\n",
    "    #See at which interest rate it has at least X dollars available for trade - print that rate - \n",
    "        #otherwise print either nothing or unavailable\n",
    "\n",
    "USD_threshold=2000\n",
    "\n",
    "for currency in currencies:\n",
    "    response = requests.get(BASE_KUCOIN+'/api/v1/prices?currencies='+currency)\n",
    "    data=response.json()\n",
    "    price=float(data['data'][currency])\n",
    "    response = requests.get(BASE_KUCOIN+'/api/v1/margin/market?currency='+currency)\n",
    "    data=response.json()\n",
    "    \n",
    "    borrowable=False\n",
    "    total=0\n",
    "    for datapoint in data['data']:\n",
    "        total+=float(datapoint['size'])\n",
    "        if total*price > USD_threshold:\n",
    "            APR = float(datapoint['dailyIntRate'])*365\n",
    "            borrowable=True\n",
    "            break\n",
    "    if borrowable:\n",
    "        print(currency+': '+': {:.2%}'.format(APR))\n",
    "    else:\n",
    "        print(currency+': '+'Not available')"
   ]
  },
  {
   "cell_type": "code",
   "execution_count": null,
   "id": "04826fef",
   "metadata": {},
   "outputs": [],
   "source": [
    "############### KUCOIN FUTURES ####################\n",
    "\n",
    "#Still on exploratory phase\n",
    "\n",
    "BASE_KUCOIN_FUTURES = 'http://api-futures.kucoin.com'\n",
    "response = requests.get(BASE_KUCOIN_FUTURES+'/api/v1/contracts/active')\n",
    "data=response.json()\n",
    "#print(json.dumps(data, indent=2))\n"
   ]
  },
  {
   "cell_type": "code",
   "execution_count": null,
   "id": "04729831",
   "metadata": {},
   "outputs": [],
   "source": [
    "response = requests.get(BASE_KUCOIN_FUTURES+'/api/v1/interest/query?symbol=.LINKINT8H')\n",
    "\n",
    "data=response.json()\n",
    "#print(json.dumps(data, indent=2))"
   ]
  },
  {
   "cell_type": "code",
   "execution_count": null,
   "id": "67d7a253",
   "metadata": {},
   "outputs": [],
   "source": [
    "############### COIN SETS ###############"
   ]
  },
  {
   "cell_type": "code",
   "execution_count": null,
   "id": "daad93f7",
   "metadata": {},
   "outputs": [],
   "source": [
    "SET1_FTX=['ALGO',\n",
    "           'ALICE',\n",
    "           'ATLAS',\n",
    "           'ATOM',\n",
    "           'BAL',\n",
    "           'BTC',\n",
    "           'CAKE',\n",
    "           'CLV',\n",
    "           'CRO',\n",
    "           'CRV',\n",
    "           'CVX',\n",
    "           'FLM',\n",
    "           'FLOW',\n",
    "           'FXS',\n",
    "           'KAVA',\n",
    "           'KSM',\n",
    "           'PERP',\n",
    "           'PUNDIX',\n",
    "           'ROSE',\n",
    "           'STX',\n",
    "            'VET'\n",
    "           ]\n",
    "\n",
    "SET1_OKX=['ATOM',\n",
    "            'CLV',\n",
    "            'CRO',\n",
    "            'FLM',\n",
    "           'KSM',\n",
    "           'PERP']\n",
    "\n",
    "SET1_KCS=['ALICE',\n",
    "          'AXS',\n",
    "          'CAKE',\n",
    "         'CLV',\n",
    "         'CRO',\n",
    "         'CRV',\n",
    "         'FLOW',\n",
    "          'GLMR',\n",
    "          'KAVA',\n",
    "          'MOVR',\n",
    "         'ROSE',\n",
    "          'SLP',\n",
    "          'STX',\n",
    "         'VET',]"
   ]
  },
  {
   "cell_type": "code",
   "execution_count": null,
   "id": "4ca37da3",
   "metadata": {},
   "outputs": [],
   "source": [
    "apr=get_apr(str(now-to_seconds(days=60)), str(now-to_seconds(days=30)), \"OKB-PERP\")\n",
    "print(apr)"
   ]
  },
  {
   "cell_type": "code",
   "execution_count": null,
   "id": "092e1395",
   "metadata": {},
   "outputs": [],
   "source": [
    "def get_ftx_futures(coin_set, days):\n",
    "\n",
    "    futures=[]\n",
    "    for coin in coin_set:\n",
    "        futures.append(coin+'-PERP')\n",
    "    futures.sort()\n",
    "\n",
    "    #Prints the implied APR from each future\n",
    "    for future in futures:\n",
    "        print(get_apr(str(now-to_seconds(days=days)), str(now), future))"
   ]
  },
  {
   "cell_type": "code",
   "execution_count": null,
   "id": "8151f04e",
   "metadata": {},
   "outputs": [],
   "source": [
    "get_ftx_futures(SET1_FTX, 3)"
   ]
  },
  {
   "cell_type": "code",
   "execution_count": null,
   "id": "71606bf9",
   "metadata": {},
   "outputs": [],
   "source": [
    "def get_okx_rates(coin_set, days):\n",
    "    \n",
    "    before=str(int(now)-to_seconds(days=days))+'000'\n",
    "    after=str(int(now)-to_seconds(days=0))+'000'\n",
    "    for coin in coin_set:\n",
    "        apr = get_okx_apr(before, after, coin)\n",
    "        print(apr)"
   ]
  },
  {
   "cell_type": "code",
   "execution_count": null,
   "id": "fff4f6f9",
   "metadata": {},
   "outputs": [],
   "source": [
    "get_okx_rates(SET1_OKX, 4)"
   ]
  },
  {
   "cell_type": "code",
   "execution_count": null,
   "id": "ac7058e6",
   "metadata": {},
   "outputs": [],
   "source": [
    "def get_kcs_margin(coin_set):\n",
    "    "
   ]
  },
  {
   "cell_type": "code",
   "execution_count": null,
   "id": "98a013ce",
   "metadata": {},
   "outputs": [],
   "source": [
    "def query_all(coin, days):\n",
    "    print(\"OKX\")\n",
    "    before=str(int(now)-to_seconds(days=days))+'000'\n",
    "    after=str(int(now)-to_seconds(days=0))+'000'   \n",
    "    okx_apr = get_okx_apr(before, after, coin)\n",
    "    print(okx_apr)\n",
    "    print(\"FTX\")\n",
    "    future=coin+\"-PERP\"\n",
    "    ftx_apr=get_apr(str(now-to_seconds(days=days)), str(now), future)\n",
    "    print(ftx_apr)"
   ]
  },
  {
   "cell_type": "code",
   "execution_count": null,
   "id": "8b55a085",
   "metadata": {},
   "outputs": [],
   "source": [
    "query_all(\"ETHW\", 3)"
   ]
  },
  {
   "cell_type": "code",
   "execution_count": null,
   "id": "a0e01442",
   "metadata": {},
   "outputs": [],
   "source": [
    "def get_kcs_price(currency):\n",
    "    response = requests.get(BASE_KUCOIN+'/api/v1/prices?currencies='+currency)\n",
    "    data=response.json()\n",
    "    price=float(data['data'][currency])\n",
    "    return price"
   ]
  },
  {
   "cell_type": "code",
   "execution_count": null,
   "id": "a75c792a",
   "metadata": {},
   "outputs": [],
   "source": [
    "USD_threshold=2000\n",
    "\n",
    "for currency in currencies:\n",
    "    price\n",
    "    response = requests.get(BASE_KUCOIN+'/api/v1/margin/market?currency='+currency)\n",
    "    data=response.json()\n",
    "    \n",
    "    borrowable=False\n",
    "    total=0\n",
    "    for datapoint in data['data']:\n",
    "        total+=float(datapoint['size'])\n",
    "        if total*price > USD_threshold:\n",
    "            APR = float(datapoint['dailyIntRate'])*365\n",
    "            borrowable=True\n",
    "            break\n",
    "    if borrowable:\n",
    "        print(currency+': '+': {:.2%}'.format(APR))\n",
    "    else:\n",
    "        print(currency+': '+'Not available')"
   ]
  },
  {
   "cell_type": "code",
   "execution_count": null,
   "id": "499d5aba",
   "metadata": {},
   "outputs": [],
   "source": [
    "import urllib.parse as urlparse\n",
    "from urllib.parse import urlencode\n",
    "\n",
    "def add_url_params(url, params):\n",
    "    #https://stackoverflow.com/questions/2506379/add-params-to-given-url-in-python\n",
    "    url_parts = list(urlparse.urlparse(url))\n",
    "    query = dict(urlparse.parse_qsl(url_parts[4]))\n",
    "    query.update(params)\n",
    "\n",
    "    url_parts[4] = urlencode(query)\n",
    "\n",
    "    final_url=urlparse.urlunparse(url_parts)\n",
    "    return final_url\n",
    "\n",
    "url = '/api/v1/position'\n",
    "params = {'symbol':'XBTUSDM'}\n",
    "add_url_params(url, params)"
   ]
  },
  {
   "cell_type": "code",
   "execution_count": null,
   "id": "69e52930",
   "metadata": {},
   "outputs": [],
   "source": [
    "import time\n",
    "import base64\n",
    "import hmac\n",
    "import hashlib\n",
    "import requests\n",
    "\n",
    "def kucoin_requests_get(endpoint):\n",
    "    #https://docs.kucoin.com/futures/#authentication\n",
    "\n",
    "    api_key = \"633401973bcee200014177df\"\n",
    "    api_secret = \"0d3c79c6-bbe1-49c1-9614-f8dc08b22736\"\n",
    "    api_passphrase = \"unforgiven\"\n",
    "    url = 'https://api-futures.kucoin.com'+endpoint\n",
    "    now = int(time.time() * 1000)\n",
    "    str_to_sign = str(now) + 'GET' + endpoint\n",
    "    signature = base64.b64encode(\n",
    "        hmac.new(api_secret.encode('utf-8'), str_to_sign.encode('utf-8'), hashlib.sha256).digest())\n",
    "    passphrase = base64.b64encode(hmac.new(api_secret.encode('utf-8'), api_passphrase.encode('utf-8'), hashlib.sha256).digest())\n",
    "    headers = {\n",
    "        \"KC-API-SIGN\": signature,\n",
    "        \"KC-API-TIMESTAMP\": str(now),\n",
    "        \"KC-API-KEY\": api_key,\n",
    "        \"KC-API-PASSPHRASE\": passphrase,\n",
    "        \"KC-API-KEY-VERSION\": \"2\"\n",
    "    }\n",
    "    response = requests.request('get', url, headers=headers)\n",
    "    return response\n",
    "\n",
    "url='/api/v1/position'\n",
    "params={'symbol':'XBTUSDM'}\n",
    "response=kucoin_requests_get(add_url_params(url,params))\n",
    "print(response.status_code)\n",
    "print(response.json())"
   ]
  },
  {
   "cell_type": "code",
   "execution_count": null,
   "id": "99da0609",
   "metadata": {},
   "outputs": [],
   "source": [
    "#This queries the history of the account rather than historical data\n",
    "#before=str(int(now)-to_seconds(days=4))+'000'\n",
    "#after=str(int(now)-to_seconds(days=0))+'000'\n",
    "#params={'symbol':'TT', 'startAt':before, 'endAt':after}\n",
    "url='/api/v1/funding-history'\n",
    "params={'symbol':'AXSUSDTM'}\n",
    "response=kucoin_requests_get(add_url_params(url,params))\n",
    "print(response.status_code)\n",
    "print(response.json())"
   ]
  },
  {
   "cell_type": "code",
   "execution_count": null,
   "id": "b2045145",
   "metadata": {},
   "outputs": [],
   "source": [
    "response=kucoin_requests_get('/api/v1/contracts/active')\n",
    "print(response.status_code)\n",
    "data=response.json()\n",
    "print(json.dumps(data, indent=2))"
   ]
  },
  {
   "cell_type": "code",
   "execution_count": null,
   "id": "225443dc",
   "metadata": {},
   "outputs": [],
   "source": [
    "import urllib.parse as urlparse\n",
    "from urllib.parse import urlencode\n",
    "\n",
    "parsed_url\n",
    "\n",
    "url = 'https://api-futures.kucoin.com/api/v1/position?symbol=XBTUSDM'\n",
    "params = {'symbol':'XBTUSDM'}\n",
    "url_parts = list(urlparse.urlparse(url))\n",
    "query = dict(urlparse.parse_qsl(url_parts[4]))\n",
    "query.update(params)\n",
    "\n",
    "url_parts[4] = urlencode(query)\n",
    "\n",
    "print(urlparse.urlunparse(url_parts))"
   ]
  },
  {
   "cell_type": "code",
   "execution_count": null,
   "id": "4fa76dd4",
   "metadata": {},
   "outputs": [],
   "source": []
  }
 ],
 "metadata": {
  "kernelspec": {
   "display_name": "Python 3 (ipykernel)",
   "language": "python",
   "name": "python3"
  },
  "language_info": {
   "codemirror_mode": {
    "name": "ipython",
    "version": 3
   },
   "file_extension": ".py",
   "mimetype": "text/x-python",
   "name": "python",
   "nbconvert_exporter": "python",
   "pygments_lexer": "ipython3",
   "version": "3.9.12"
  }
 },
 "nbformat": 4,
 "nbformat_minor": 5
}
